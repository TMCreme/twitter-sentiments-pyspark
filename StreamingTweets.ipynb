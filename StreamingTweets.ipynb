{
 "cells": [
  {
   "cell_type": "code",
   "execution_count": 2,
   "id": "69e68d05",
   "metadata": {},
   "outputs": [],
   "source": [
    "# Importing the modules\n",
    "from kafka import KafkaConsumer, KafkaProducer\n",
    "# Tweepy\n",
    "from tweepy import API, OAuthHandler, Stream, OAuth2AppHandler\n",
    "# Confluent \n",
    "from confluent_kafka import Producer as cProducer\n",
    "from confluent_kafka import avro\n",
    "from confluent_kafka.avro import AvroProducer\n",
    "# # Schema Registry\n",
    "# from schema_registry.client import AsyncSchemaRegistryClient, schema\n",
    "# Others\n",
    "import json\n",
    "import os\n",
    "import configparser\n",
    "import datetime\n",
    "import time\n",
    "import typing\n",
    "import uuid"
   ]
  },
  {
   "cell_type": "code",
   "execution_count": 3,
   "id": "d7ebbf61",
   "metadata": {},
   "outputs": [],
   "source": [
    "# Define the Kafka producer to send streaming data to\n",
    "producer = KafkaProducer(bootstrap_servers=['localhost:9092'],\n",
    "                        value_serializer=lambda m: json.dumps(m).encode('ascii'))\n",
    "kafka_topic = \"kafka_tweets_stream\"\n",
    "producer_config = {\n",
    "        \"bootstrap.servers\": 'localhost:9092',\n",
    "        \"schema.registry.url\": 'http://localhost:8081'\n",
    "    }\n",
    "key_schema = avro.loads(\"\"\"\n",
    "    {\"type\": \"string\"}\n",
    "    \"\"\")\n",
    "value_schema = avro.load('test.avsc')\n",
    "\n",
    "avroProducer = AvroProducer(producer_config, default_key_schema=key_schema, default_value_schema=value_schema)"
   ]
  },
  {
   "cell_type": "code",
   "execution_count": 4,
   "id": "edfbb464",
   "metadata": {},
   "outputs": [],
   "source": [
    "# Reading the secrets file for credentials\n",
    "config = configparser.ConfigParser()\n",
    "config.read('secrets.ini')\n",
    "# print(config.sections())\n",
    "consumer_access_key = config[\"twitter\"][\"consumer_access_key\"]\n",
    "consumer_secret = config[\"twitter\"][\"consumer_secret\"]\n",
    "twitter_access_token = config[\"twitter\"][\"access_token\"]\n",
    "twitter_access_token_secret = config[\"twitter\"][\"access_token_secret\"]\n",
    "\n",
    "# confluent\n",
    "confluent_default = dict(config['confluent_local'])\n",
    "confluent_producer = cProducer(confluent_default)"
   ]
  },
  {
   "cell_type": "code",
   "execution_count": 5,
   "id": "4149a014",
   "metadata": {},
   "outputs": [],
   "source": [
    "def delivery_callback(err, msg):\n",
    "    if err:\n",
    "        print('ERROR: Message failed delivery: {}'.format(err))\n",
    "    else:\n",
    "        print(\"Produced event to topic {topic}: key = {key:12} value = {value:12}\".format(\n",
    "            topic=msg.topic(), key=msg.key().decode('utf-8'), value=msg.value().decode('utf-8')))\n"
   ]
  },
  {
   "cell_type": "code",
   "execution_count": 6,
   "id": "0b243547",
   "metadata": {
    "scrolled": false
   },
   "outputs": [
    {
     "name": "stdout",
     "output_type": "stream",
     "text": [
      "Connection established for stream\n"
     ]
    }
   ],
   "source": [
    "# Streaming of Tweets and sending to Kafka in real time\n",
    "class MyStreamListener(Stream):\n",
    "\n",
    "    def on_connect(self):\n",
    "        print(\"Connection established for stream\")\n",
    "\n",
    "    def on_status(self, status):\n",
    "        print(status.text)\n",
    "\n",
    "    def on_data(self, data):\n",
    "        mydata = json.loads(data)\n",
    "        # print(type(data), type(mydata))\n",
    "        filename = datetime.datetime.today().strftime(\"%Y%m%d\")\n",
    "        # producer.send(kafka_topic, mydata)\n",
    "        confluent_producer.produce(kafka_topic, data, callback=delivery_callback)\n",
    "        # avroProducer.produce(topic=kafka_topic, key=str(uuid.uuid4()), value=mydata)\n",
    "        # print(mydata)\n",
    "        return True\n",
    "\n",
    "    def on_limit(self, status):\n",
    "        print(\"Twitter API Rate Limit: Resuming soon...\")\n",
    "        time.sleep(60)\n",
    "        return True\n",
    "\n",
    "    def on_error(self, status):\n",
    "        print(status)\n",
    "\n",
    "        \n",
    "if __name__ == '__main__':\n",
    "    words_to_analyse = ['Akuffo Addo', 'Bawumia']\n",
    "    stream = MyStreamListener(consumer_access_key,\n",
    "                    consumer_secret, twitter_access_token,\n",
    "                    twitter_access_token_secret)\n",
    "    stream.filter(track=words_to_analyse, threaded=True)"
   ]
  },
  {
   "cell_type": "code",
   "execution_count": null,
   "id": "676efb4c",
   "metadata": {},
   "outputs": [],
   "source": []
  },
  {
   "cell_type": "code",
   "execution_count": null,
   "id": "1908500f",
   "metadata": {},
   "outputs": [],
   "source": []
  },
  {
   "cell_type": "code",
   "execution_count": 3,
   "id": "147ee879",
   "metadata": {},
   "outputs": [],
   "source": []
  },
  {
   "cell_type": "code",
   "execution_count": null,
   "id": "b26c4c52",
   "metadata": {},
   "outputs": [],
   "source": []
  }
 ],
 "metadata": {
  "kernelspec": {
   "display_name": "Python 3 (ipykernel)",
   "language": "python",
   "name": "python3"
  },
  "language_info": {
   "codemirror_mode": {
    "name": "ipython",
    "version": 3
   },
   "file_extension": ".py",
   "mimetype": "text/x-python",
   "name": "python",
   "nbconvert_exporter": "python",
   "pygments_lexer": "ipython3",
   "version": "3.9.15"
  }
 },
 "nbformat": 4,
 "nbformat_minor": 5
}
