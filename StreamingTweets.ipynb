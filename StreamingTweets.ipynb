{
 "cells": [
  {
   "cell_type": "code",
   "execution_count": 1,
   "id": "69e68d05",
   "metadata": {},
   "outputs": [],
   "source": [
    "# Importing the modules\n",
    "from kafka import KafkaConsumer, KafkaProducer\n",
    "# Tweepy\n",
    "from tweepy import API, OAuthHandler, Stream, OAuth2AppHandler\n",
    "# Others\n",
    "import json\n",
    "import os\n",
    "import configparser\n",
    "import datetime\n",
    "import time"
   ]
  },
  {
   "cell_type": "code",
   "execution_count": 2,
   "id": "d7ebbf61",
   "metadata": {},
   "outputs": [],
   "source": [
    "# Define the Kafka producer to send streaming data to\n",
    "producer = KafkaProducer(bootstrap_servers=['localhost:9092'],\n",
    "                        value_serializer=lambda m: json.dumps(m).encode('ascii'))\n",
    "kafka_topic = \"kafka_tweets_stream\""
   ]
  },
  {
   "cell_type": "code",
   "execution_count": 3,
   "id": "edfbb464",
   "metadata": {},
   "outputs": [
    {
     "name": "stdout",
     "output_type": "stream",
     "text": [
      "['twitter']\n"
     ]
    }
   ],
   "source": [
    "# Reading the secrets file for credentials\n",
    "config = configparser.ConfigParser()\n",
    "config.read('secrets.ini')\n",
    "# print(config.sections())\n",
    "consumer_access_key = config[\"twitter\"][\"consumer_access_key\"]\n",
    "consumer_secret = config[\"twitter\"][\"consumer_secret\"]\n",
    "twitter_access_token = config[\"twitter\"][\"access_token\"]\n",
    "twitter_access_token_secret = config[\"twitter\"][\"access_token_secret\"]\n",
    "\n"
   ]
  },
  {
   "cell_type": "code",
   "execution_count": 4,
   "id": "0b243547",
   "metadata": {
    "scrolled": false
   },
   "outputs": [
    {
     "name": "stdout",
     "output_type": "stream",
     "text": [
      "Connection established for stream\n"
     ]
    }
   ],
   "source": [
    "# Streaming of Tweets and sending to Kafka in real time\n",
    "class MyStreamListener(Stream):\n",
    "\n",
    "    def on_connect(self):\n",
    "        print(\"Connection established for stream\")\n",
    "\n",
    "    def on_status(self, status):\n",
    "        print(status.text)\n",
    "\n",
    "    def on_data(self, data):\n",
    "        mydata = json.loads(data)\n",
    "        filename = datetime.datetime.today().strftime(\"%Y%m%d\")\n",
    "        producer.send(kafka_topic, mydata)\n",
    "#         print(mydata)\n",
    "        return True\n",
    "\n",
    "    def on_limit(self, status):\n",
    "        print(\"Twitter API Rate Limit: Resuming soon...\")\n",
    "        time.sleep(60)\n",
    "        return True\n",
    "\n",
    "    def on_error(self, status):\n",
    "        print(status)\n",
    "\n",
    "        \n",
    "if __name__ == '__main__':\n",
    "    words_to_analyse = ['Akuffo Addo', 'Bawumia']\n",
    "    stream = MyStreamListener(consumer_access_key,\n",
    "                    consumer_secret, twitter_access_token,\n",
    "                    twitter_access_token_secret)\n",
    "    stream.filter(track=words_to_analyse, threaded=True)"
   ]
  },
  {
   "cell_type": "code",
   "execution_count": null,
   "id": "b26c4c52",
   "metadata": {},
   "outputs": [],
   "source": []
  }
 ],
 "metadata": {
  "kernelspec": {
   "display_name": "Python 3 (ipykernel)",
   "language": "python",
   "name": "python3"
  },
  "language_info": {
   "codemirror_mode": {
    "name": "ipython",
    "version": 3
   },
   "file_extension": ".py",
   "mimetype": "text/x-python",
   "name": "python",
   "nbconvert_exporter": "python",
   "pygments_lexer": "ipython3",
   "version": "3.9.15"
  }
 },
 "nbformat": 4,
 "nbformat_minor": 5
}
