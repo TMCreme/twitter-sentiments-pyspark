{
 "cells": [
  {
   "cell_type": "code",
   "execution_count": 1,
   "id": "023ad423",
   "metadata": {},
   "outputs": [],
   "source": [
    "import warnings\n",
    "warnings.filterwarnings('ignore')"
   ]
  },
  {
   "cell_type": "code",
   "execution_count": 4,
   "id": "fc7d3752",
   "metadata": {},
   "outputs": [],
   "source": [
    "# Importing the necessary modules \n",
    "import os\n",
    "import pandas as pd\n",
    "from textblob import TextBlob\n",
    "import pyspark.pandas as ps\n",
    "from pyspark.sql.functions import (\n",
    "    pandas_udf, col, udf,expr, from_json, window\n",
    ")\n",
    "from pyspark.sql.types import (\n",
    "    FloatType, StringType, StructType,\n",
    "    BooleanType, IntegerType\n",
    ")\n",
    "from pyspark.sql import SparkSession\n",
    "from kafka import KafkaConsumer, KafkaProducer\n",
    "import findspark\n",
    "import json\n",
    "import configparser"
   ]
  },
  {
   "cell_type": "code",
   "execution_count": 5,
   "id": "29693726",
   "metadata": {},
   "outputs": [
    {
     "name": "stdout",
     "output_type": "stream",
     "text": [
      "22/10/19 21:35:18 WARN SparkSession: Using an existing Spark session; only runtime SQL configurations will take effect.\n"
     ]
    }
   ],
   "source": [
    "# Declaring the spark session\n",
    "spark = SparkSession.builder \\\n",
    "    .master(\"local[*]\") \\\n",
    "    .appName(\"Twitter Sentiment\") \\\n",
    "    .getOrCreate()"
   ]
  },
  {
   "cell_type": "code",
   "execution_count": null,
   "id": "5da1bdbc",
   "metadata": {},
   "outputs": [],
   "source": [
    "# config = configparser.ConfigParser()\n",
    "# config.read('secrets.ini')\n",
    "# confluent_host = config['confluent_default']['bootstrap.servers']\n",
    "# confluent_username = config['confluent_default']['sasl.username']\n",
    "# confluent_password = config['confluent_default']['sasl.password']\n",
    "\n",
    "# kafka_jaas = \"\"\"kafkashaded.org.apache.kafka.common.security.plain.PlainLoginModule required username='{}' password='{}';\"\"\".format(confluent_username, confluent_password)\n",
    "# # confluent_consumer.update(config['confluent_consumer'])\n",
    "# print(kafka_jaas)"
   ]
  },
  {
   "cell_type": "code",
   "execution_count": 6,
   "id": "6e2bf007",
   "metadata": {},
   "outputs": [],
   "source": [
    "# Subscribing to the kafka topic that receives the data and read from it\n",
    "df = spark \\\n",
    "    .readStream \\\n",
    "    .format(\"kafka\") \\\n",
    "    .option(\"kafka.bootstrap.servers\", \"localhost:9092\") \\\n",
    "    .option(\"subscribe\", \"kafka_tweets_stream\") \\\n",
    "    .option(\"startingOffsets\", \"earliest\") \\\n",
    "    .load()"
   ]
  },
  {
   "cell_type": "code",
   "execution_count": 7,
   "id": "08400405",
   "metadata": {},
   "outputs": [],
   "source": [
    "# UDF that classifies the tweets as a positive/negative/neutral sentiment\n",
    "# Binary classification \n",
    "@udf(returnType=StringType())\n",
    "def sentiment_fxn(text: str):\n",
    "    try:\n",
    "        sent_cal = round(float(TextBlob(text).sentiment.polarity), 2)\n",
    "        if sent_cal > 0:\n",
    "            return \"Postive\"\n",
    "        elif sent_cal < 0:\n",
    "            return \"Negative\"\n",
    "        return \"Neutral\"\n",
    "    except:\n",
    "        return None"
   ]
  },
  {
   "cell_type": "code",
   "execution_count": 8,
   "id": "cc9dafbd",
   "metadata": {},
   "outputs": [],
   "source": [
    "# The schema of the streamed data has the expected data represented by the 'value' key\n",
    "# Using the SQL select statement to cast the binary data as string\n",
    "my_df = df.selectExpr(\"CAST(value as STRING)\", \"timestamp\")"
   ]
  },
  {
   "cell_type": "code",
   "execution_count": 9,
   "id": "facc1f38",
   "metadata": {},
   "outputs": [],
   "source": [
    "# Expected schema of the expected data\n",
    "sample_schema = (\n",
    "    StructType()\n",
    "    .add(\"created_at\", StringType())\n",
    "    .add(\"id\", IntegerType())\n",
    "    .add(\"id_str\" , StringType())\n",
    "    .add(\"text\", StringType())\n",
    "    .add(\"source\", StringType())\n",
    "    .add(\"truncated\", BooleanType())\n",
    "    .add(\"in_reply_to_status_id\", IntegerType())\n",
    "    .add(\"in_reply_to_status_id_str\", IntegerType())\n",
    "    .add(\"in_reply_to_user_id\", IntegerType())\n",
    "    .add(\"in_reply_to_user_id_str\", StringType())\n",
    "    .add(\"in_reply_to_screen_name\", StringType())\n",
    "    .add(\"user\", StructType())\n",
    "    .add(\"geo\", StringType())\n",
    "    .add(\"coordinates\", StringType())\n",
    "    .add(\"place\", StringType())\n",
    "    .add(\"contributors\", StringType())\n",
    "    .add(\"retweeted_status\", StructType())\n",
    "    .add(\"is_quote_status\", StringType())\n",
    "    .add(\"quote_count\", IntegerType())\n",
    "    .add(\"reply_count\", IntegerType())\n",
    "    .add(\"retweet_count\", IntegerType())\n",
    "    .add(\"favorite_count\", IntegerType())\n",
    "    .add(\"entities\", StructType())\n",
    "    .add(\"favorited\", BooleanType())\n",
    "    .add(\"retweeted\", BooleanType())\n",
    "    .add(\"possibly_sensitive\", StringType())\n",
    "    .add(\"filter_level\", StringType())\n",
    "    .add(\"lang\", StringType())\n",
    "    .add(\"timestamp_ms\", StringType())\n",
    ")"
   ]
  },
  {
   "cell_type": "code",
   "execution_count": 10,
   "id": "82edcb47",
   "metadata": {},
   "outputs": [
    {
     "name": "stdout",
     "output_type": "stream",
     "text": [
      "22/10/19 21:39:30 WARN package: Truncated the string representation of a plan since it was too large. This behavior can be adjusted by setting 'spark.sql.debug.maxToStringFields'.\n"
     ]
    }
   ],
   "source": [
    "# Use the schema above to apply on the data\n",
    "into_dataframe = my_df.select(\n",
    "        from_json(col(\"value\"), sample_schema).alias(\"sample\"),\n",
    "    \"timestamp\"\n",
    "    )"
   ]
  },
  {
   "cell_type": "code",
   "execution_count": 11,
   "id": "49acd770",
   "metadata": {},
   "outputs": [],
   "source": [
    "# Get the data into a dataframe\n",
    "into_df = into_dataframe.select(\"sample.*\", \"timestamp\")"
   ]
  },
  {
   "cell_type": "code",
   "execution_count": 12,
   "id": "913e4e67",
   "metadata": {},
   "outputs": [],
   "source": [
    "# Run the classification function on the text column of the dataframe\n",
    "sent_df = into_df.withColumn(\"sentiment\", sentiment_fxn(col('text')))"
   ]
  },
  {
   "cell_type": "code",
   "execution_count": null,
   "id": "4a208d03",
   "metadata": {},
   "outputs": [],
   "source": [
    "# Run an aggregate query on the df to enable wrtieStream\n",
    "# aggDF = sent_df.groupBy('sentiment').count()"
   ]
  },
  {
   "cell_type": "code",
   "execution_count": 13,
   "id": "5214d40f",
   "metadata": {},
   "outputs": [],
   "source": [
    "# Aggregation with watermark and window\n",
    "aggDF1 = windowedCounts = sent_df \\\n",
    "    .withWatermark(\"timestamp\", \"10 minutes\") \\\n",
    "    .groupBy(\n",
    "        window(sent_df.timestamp, \"10 minutes\", \"5 minutes\"),\n",
    "        'sentiment'\n",
    "    ).count().orderBy('window')"
   ]
  },
  {
   "cell_type": "code",
   "execution_count": 14,
   "id": "20efa3c3",
   "metadata": {},
   "outputs": [
    {
     "name": "stdout",
     "output_type": "stream",
     "text": [
      "22/10/19 21:39:51 WARN ResolveWriteToStream: Temporary checkpoint location created which is deleted normally when the query didn't fail: /private/var/folders/ch/1fv_8ny54373dh31wc23mbj00000gn/T/temporary-fb1590e3-c5bc-4884-94ab-7738cf7559d4. If it's required to delete it under any circumstances, please set spark.sql.streaming.forceDeleteTempCheckpointLocation to true. Important to know deleting temp checkpoint folder is best effort.\n",
      "22/10/19 21:39:51 WARN ResolveWriteToStream: spark.sql.adaptive.enabled is not supported in streaming DataFrames/Datasets and will be disabled.\n"
     ]
    },
    {
     "data": {
      "text/plain": [
       "<pyspark.sql.streaming.StreamingQuery at 0x129ab1160>"
      ]
     },
     "execution_count": 14,
     "metadata": {},
     "output_type": "execute_result"
    }
   ],
   "source": [
    "# Writing the aggregated data to memory as a table so we can perform SQL operations on it\n",
    "aggDF1.writeStream \\\n",
    "    .queryName(\"aggregates\") \\\n",
    "    .outputMode(\"complete\") \\\n",
    "    .format(\"memory\") \\\n",
    "    .start()"
   ]
  },
  {
   "cell_type": "code",
   "execution_count": 15,
   "id": "a9dc1a79",
   "metadata": {},
   "outputs": [
    {
     "name": "stderr",
     "output_type": "stream",
     "text": [
      "\r",
      "[Stage 0:>                                                          (0 + 1) / 1]\r"
     ]
    },
    {
     "name": "stdout",
     "output_type": "stream",
     "text": [
      "22/10/19 21:40:01 WARN KafkaDataConsumer: KafkaDataConsumer is not running in UninterruptibleThread. It may hang when KafkaDataConsumer's methods are interrupted because of KAFKA-1894\n"
     ]
    }
   ],
   "source": [
    "# Selecting all and converting to pandas df to enable plotting\n",
    "final_result = spark.sql(\"select * from aggregates\").toPandas()"
   ]
  },
  {
   "cell_type": "code",
   "execution_count": 21,
   "id": "55cbc7ee",
   "metadata": {},
   "outputs": [
    {
     "data": {
      "text/html": [
       "<div>\n",
       "<style scoped>\n",
       "    .dataframe tbody tr th:only-of-type {\n",
       "        vertical-align: middle;\n",
       "    }\n",
       "\n",
       "    .dataframe tbody tr th {\n",
       "        vertical-align: top;\n",
       "    }\n",
       "\n",
       "    .dataframe thead th {\n",
       "        text-align: right;\n",
       "    }\n",
       "</style>\n",
       "<table border=\"1\" class=\"dataframe\">\n",
       "  <thead>\n",
       "    <tr style=\"text-align: right;\">\n",
       "      <th></th>\n",
       "      <th>window</th>\n",
       "      <th>sentiment</th>\n",
       "      <th>count</th>\n",
       "    </tr>\n",
       "  </thead>\n",
       "  <tbody>\n",
       "  </tbody>\n",
       "</table>\n",
       "</div>"
      ],
      "text/plain": [
       "Empty DataFrame\n",
       "Columns: [window, sentiment, count]\n",
       "Index: []"
      ]
     },
     "execution_count": 21,
     "metadata": {},
     "output_type": "execute_result"
    }
   ],
   "source": [
    "# Display the aggregated table\n",
    "final_result.sort_values('window', ascending=False)"
   ]
  },
  {
   "cell_type": "code",
   "execution_count": 22,
   "id": "fe9c1905",
   "metadata": {},
   "outputs": [
    {
     "data": {
      "text/plain": [
       "<AxesSubplot: >"
      ]
     },
     "execution_count": 22,
     "metadata": {},
     "output_type": "execute_result"
    },
    {
     "data": {
      "image/png": "[encoded data removed]",
      "text/plain": [
       "<Figure size 640x480 with 1 Axes>"
      ]
     },
     "metadata": {},
     "output_type": "display_data"
    }
   ],
   "source": [
    "# Plot as a bar graph the various sentiment values\n",
    "spark.sql(\"select sentiment, count from aggregates\").toPandas()['sentiment'].value_counts().plot.bar('sentiment', 'count')"
   ]
  },
  {
   "cell_type": "code",
   "execution_count": null,
   "id": "df497fd9",
   "metadata": {},
   "outputs": [],
   "source": []
  },
  {
   "cell_type": "code",
   "execution_count": null,
   "id": "8d615a37",
   "metadata": {},
   "outputs": [],
   "source": [
    "# End of File"
   ]
  },
  {
   "cell_type": "code",
   "execution_count": null,
   "id": "93941b94",
   "metadata": {},
   "outputs": [],
   "source": []
  },
  {
   "cell_type": "code",
   "execution_count": null,
   "id": "984e13f1",
   "metadata": {},
   "outputs": [],
   "source": []
  },
  {
   "cell_type": "code",
   "execution_count": null,
   "id": "07a73f58",
   "metadata": {},
   "outputs": [],
   "source": []
  },
  {
   "cell_type": "code",
   "execution_count": null,
   "id": "aa8edd91",
   "metadata": {},
   "outputs": [],
   "source": []
  },
  {
   "cell_type": "code",
   "execution_count": null,
   "id": "7472d995",
   "metadata": {},
   "outputs": [],
   "source": []
  }
 ],
 "metadata": {
  "kernelspec": {
   "display_name": "Python 3 (ipykernel)",
   "language": "python",
   "name": "python3"
  },
  "language_info": {
   "codemirror_mode": {
    "name": "ipython",
    "version": 3
   },
   "file_extension": ".py",
   "mimetype": "text/x-python",
   "name": "python",
   "nbconvert_exporter": "python",
   "pygments_lexer": "ipython3",
   "version": "3.9.15"
  }
 },
 "nbformat": 4,
 "nbformat_minor": 5
}
