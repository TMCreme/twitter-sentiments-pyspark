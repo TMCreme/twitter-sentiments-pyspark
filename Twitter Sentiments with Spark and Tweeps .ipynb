{
 "cells": [
  {
   "cell_type": "code",
   "execution_count": 1,
   "id": "fc7d3752",
   "metadata": {},
   "outputs": [
    {
     "name": "stderr",
     "output_type": "stream",
     "text": [
      "WARNING:root:'PYARROW_IGNORE_TIMEZONE' environment variable was not set. It is required to set this environment variable to '1' in both driver and executor sides if you use pyarrow>=2.0.0. pandas-on-Spark will set it for you but it does not work if there is a Spark context already launched.\n"
     ]
    }
   ],
   "source": [
    "# Importing the necessary modules \n",
    "import os\n",
    "import pandas as pd\n",
    "from textblob import TextBlob\n",
    "import pyspark.pandas as ps\n",
    "from pyspark.sql.functions import pandas_udf, col, udf,expr, from_json\n",
    "from pyspark.sql.types import FloatType, StringType, StructType\n",
    "from pyspark.sql import SparkSession\n",
    "from kafka import KafkaConsumer, KafkaProducer\n",
    "import findspark\n",
    "import json"
   ]
  },
  {
   "cell_type": "code",
   "execution_count": 2,
   "id": "29693726",
   "metadata": {},
   "outputs": [
    {
     "name": "stdout",
     "output_type": "stream",
     "text": [
      "22/10/16 13:43:32 WARN SparkSession: Using an existing Spark session; only runtime SQL configurations will take effect.\n"
     ]
    }
   ],
   "source": [
    "# Declaring the spark session\n",
    "spark = SparkSession.builder \\\n",
    "    .master(\"local[*]\") \\\n",
    "    .appName(\"Twitter Sentiment\") \\\n",
    "    .getOrCreate()"
   ]
  },
  {
   "cell_type": "code",
   "execution_count": 3,
   "id": "6e2bf007",
   "metadata": {},
   "outputs": [],
   "source": [
    "# Subscribing to the kafka topic that receives the data and read from it\n",
    "df = spark \\\n",
    "    .readStream \\\n",
    "    .format(\"kafka\") \\\n",
    "    .option(\"kafka.bootstrap.servers\", \"127.0.0.1:9092\") \\\n",
    "    .option(\"subscribe\", \"kafka_tweets_stream\") \\\n",
    "    .option(\"startingOffsets\", \"earliest\") \\\n",
    "    .load()"
   ]
  },
  {
   "cell_type": "code",
   "execution_count": 4,
   "id": "08400405",
   "metadata": {},
   "outputs": [],
   "source": [
    "# UDF that classifies the tweets as a positive/negative/neutral sentiment\n",
    "# Binary classification \n",
    "@udf(returnType=StringType())\n",
    "def sentiment_fxn(text: str):\n",
    "    try:\n",
    "        sent_cal = round(float(TextBlob(text).sentiment.polarity), 2)\n",
    "        if sent_cal > 0:\n",
    "            return \"Postive\"\n",
    "        elif sent_cal < 0:\n",
    "            return \"Negative\"\n",
    "        return \"Neutral\"\n",
    "    except:\n",
    "        return None"
   ]
  },
  {
   "cell_type": "code",
   "execution_count": 5,
   "id": "cc9dafbd",
   "metadata": {},
   "outputs": [],
   "source": [
    "# The schema of the streamed data has the expected data represented by the 'value' key\n",
    "# Using the SQL select statement to cast the binary data as string\n",
    "my_df = df.selectExpr(\"CAST(value as STRING)\")"
   ]
  },
  {
   "cell_type": "code",
   "execution_count": 6,
   "id": "facc1f38",
   "metadata": {},
   "outputs": [],
   "source": [
    "# Expected schema of the expected data\n",
    "sample_schema = (\n",
    "    StructType()\n",
    "    .add(\"created_at\", StringType())\n",
    "    .add(\"id\", StringType())\n",
    "    .add(\"id_str\" , StringType())\n",
    "    .add(\"text\", StringType())\n",
    "    .add(\"source\", StringType())\n",
    "    .add(\"truncated\", StringType())\n",
    "    .add(\"in_reply_to_status_id\", StringType())\n",
    "    .add(\"in_reply_to_status_id_str\", StringType())\n",
    "    .add(\"in_reply_to_user_id\", StringType())\n",
    "    .add(\"in_reply_to_user_id_str\", StringType())\n",
    "    .add(\"in_reply_to_screen_name\", StringType())\n",
    "    .add(\"user\", StringType())\n",
    "    .add(\"geo\", StringType())\n",
    "    .add(\"coordinates\", StringType())\n",
    "    .add(\"place\", StringType())\n",
    "    .add(\"contributors\", StringType())\n",
    "    .add(\"retweeted_status\", StringType())\n",
    "    .add(\"is_quote_status\", StringType())\n",
    "    .add(\"quote_count\", StringType())\n",
    "    .add(\"reply_count\", StringType())\n",
    "    .add(\"retweet_count\", StringType())\n",
    "    .add(\"favorite_count\", StringType())\n",
    "    .add(\"entities\", StringType())\n",
    "    .add(\"favorited\", StringType())\n",
    "    .add(\"retweeted\", StringType())\n",
    "    .add(\"possibly_sensitive\", StringType())\n",
    "    .add(\"filter_level\", StringType())\n",
    "    .add(\"lang\", StringType())\n",
    "    .add(\"timestamp_ms\", StringType())\n",
    ")"
   ]
  },
  {
   "cell_type": "code",
   "execution_count": 7,
   "id": "82edcb47",
   "metadata": {},
   "outputs": [
    {
     "name": "stdout",
     "output_type": "stream",
     "text": [
      "22/10/16 13:45:07 WARN package: Truncated the string representation of a plan since it was too large. This behavior can be adjusted by setting 'spark.sql.debug.maxToStringFields'.\n"
     ]
    }
   ],
   "source": [
    "# Use the schema above to apply on the data\n",
    "into_dataframe = my_df.select(\n",
    "        from_json(col(\"value\"), sample_schema).alias(\"sample\")\n",
    "    )"
   ]
  },
  {
   "cell_type": "code",
   "execution_count": 8,
   "id": "49acd770",
   "metadata": {},
   "outputs": [],
   "source": [
    "# Get the data into a dataframe\n",
    "into_df = into_dataframe.select(\"sample.*\")"
   ]
  },
  {
   "cell_type": "code",
   "execution_count": 9,
   "id": "913e4e67",
   "metadata": {},
   "outputs": [],
   "source": [
    "# Run the classification function on the text column of the dataframe\n",
    "sent_df = into_df.withColumn(\"sentiment\", sentiment_fxn(col('text')))"
   ]
  },
  {
   "cell_type": "code",
   "execution_count": 11,
   "id": "4a208d03",
   "metadata": {},
   "outputs": [],
   "source": [
    "# Run an aggregate query on the df to enable wrtieStream\n",
    "aggDF = sent_df.groupBy('sentiment').count()"
   ]
  },
  {
   "cell_type": "code",
   "execution_count": null,
   "id": "20efa3c3",
   "metadata": {},
   "outputs": [],
   "source": [
    "# Writing the aggregated data to memory as a table so we can perform SQL operations on it\n",
    "aggDF.writeStream \\\n",
    "    .queryName(\"aggregates\") \\\n",
    "    .outputMode(\"complete\") \\\n",
    "    .format(\"memory\") \\\n",
    "    .start()"
   ]
  },
  {
   "cell_type": "code",
   "execution_count": 60,
   "id": "a9dc1a79",
   "metadata": {},
   "outputs": [],
   "source": [
    "# Selecting all and converting to pandas df to enable plotting\n",
    "final_result = spark.sql(\"select * from aggregates\").toPandas()"
   ]
  },
  {
   "cell_type": "code",
   "execution_count": null,
   "id": "55cbc7ee",
   "metadata": {},
   "outputs": [
    {
     "name": "stderr",
     "output_type": "stream",
     "text": [
      "                                                                                \r"
     ]
    },
    {
     "name": "stdout",
     "output_type": "stream",
     "text": [
      "22/10/16 16:31:36 WARN KafkaDataConsumer: KafkaDataConsumer is not running in UninterruptibleThread. It may hang when KafkaDataConsumer's methods are interrupted because of KAFKA-1894\n"
     ]
    },
    {
     "name": "stderr",
     "output_type": "stream",
     "text": [
      "                                                                                \r"
     ]
    },
    {
     "name": "stdout",
     "output_type": "stream",
     "text": [
      "22/10/16 16:31:44 WARN KafkaDataConsumer: KafkaDataConsumer is not running in UninterruptibleThread. It may hang when KafkaDataConsumer's methods are interrupted because of KAFKA-1894\n"
     ]
    },
    {
     "name": "stderr",
     "output_type": "stream",
     "text": [
      "                                                                                \r"
     ]
    }
   ],
   "source": [
    "# Display the aggregated table\n",
    "final_result"
   ]
  },
  {
   "cell_type": "code",
   "execution_count": 58,
   "id": "fe9c1905",
   "metadata": {},
   "outputs": [
    {
     "data": {
      "text/plain": [
       "<AxesSubplot: xlabel='sentiment'>"
      ]
     },
     "execution_count": 58,
     "metadata": {},
     "output_type": "execute_result"
    },
    {
     "data": {
      "image/png": "[encoded data removed]",
      "text/plain": [
       "<Figure size 640x480 with 1 Axes>"
      ]
     },
     "metadata": {},
     "output_type": "display_data"
    },
    {
     "name": "stdout",
     "output_type": "stream",
     "text": [
      "22/10/16 16:00:13 WARN KafkaDataConsumer: KafkaDataConsumer is not running in UninterruptibleThread. It may hang when KafkaDataConsumer's methods are interrupted because of KAFKA-1894\n"
     ]
    },
    {
     "name": "stderr",
     "output_type": "stream",
     "text": [
      "                                                                                \r"
     ]
    }
   ],
   "source": [
    "# Plot as a bar graph the various sentiment values\n",
    "final_result.plot.bar('sentiment', 'count')"
   ]
  },
  {
   "cell_type": "code",
   "execution_count": null,
   "id": "df497fd9",
   "metadata": {},
   "outputs": [],
   "source": []
  },
  {
   "cell_type": "code",
   "execution_count": null,
   "id": "984e13f1",
   "metadata": {},
   "outputs": [],
   "source": []
  }
 ],
 "metadata": {
  "kernelspec": {
   "display_name": "Python 3 (ipykernel)",
   "language": "python",
   "name": "python3"
  },
  "language_info": {
   "codemirror_mode": {
    "name": "ipython",
    "version": 3
   },
   "file_extension": ".py",
   "mimetype": "text/x-python",
   "name": "python",
   "nbconvert_exporter": "python",
   "pygments_lexer": "ipython3",
   "version": "3.9.15"
  }
 },
 "nbformat": 4,
 "nbformat_minor": 5
}
